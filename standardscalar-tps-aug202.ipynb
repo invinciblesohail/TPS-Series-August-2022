{
 "cells": [
  {
   "cell_type": "markdown",
   "id": "06671221",
   "metadata": {
    "papermill": {
     "duration": 0.008701,
     "end_time": "2022-08-18T05:06:34.349141",
     "exception": false,
     "start_time": "2022-08-18T05:06:34.340440",
     "status": "completed"
    },
    "tags": []
   },
   "source": [
    "### About the Notebook\n",
    "This is a tabular play ground series. The dataset in the notebook has been taken accordingly. In this notebook, the strategies of OneHotEncoder and SimpleImputer techniques for handling categroical and columns with missing values (null values) have been used respectively. In addition the StandardScalar technique is also used.  The RandomForestClassifier model has been used for the model evaluation. "
   ]
  },
  {
   "cell_type": "markdown",
   "id": "56c9a508",
   "metadata": {
    "papermill": {
     "duration": 0.007059,
     "end_time": "2022-08-18T05:06:34.363861",
     "exception": false,
     "start_time": "2022-08-18T05:06:34.356802",
     "status": "completed"
    },
    "tags": []
   },
   "source": [
    "### Libraries to be used"
   ]
  },
  {
   "cell_type": "code",
   "execution_count": 1,
   "id": "f610fd75",
   "metadata": {
    "execution": {
     "iopub.execute_input": "2022-08-18T05:06:34.381236Z",
     "iopub.status.busy": "2022-08-18T05:06:34.380520Z",
     "iopub.status.idle": "2022-08-18T05:06:36.627832Z",
     "shell.execute_reply": "2022-08-18T05:06:36.626803Z"
    },
    "papermill": {
     "duration": 2.260389,
     "end_time": "2022-08-18T05:06:36.631568",
     "exception": false,
     "start_time": "2022-08-18T05:06:34.371179",
     "status": "completed"
    },
    "tags": []
   },
   "outputs": [
    {
     "data": {
      "text/html": [
       "<style type='text/css'>\n",
       ".datatable table.frame { margin-bottom: 0; }\n",
       ".datatable table.frame thead { border-bottom: none; }\n",
       ".datatable table.frame tr.coltypes td {  color: #FFFFFF;  line-height: 6px;  padding: 0 0.5em;}\n",
       ".datatable .bool    { background: #DDDD99; }\n",
       ".datatable .object  { background: #565656; }\n",
       ".datatable .int     { background: #5D9E5D; }\n",
       ".datatable .float   { background: #4040CC; }\n",
       ".datatable .str     { background: #CC4040; }\n",
       ".datatable .time    { background: #40CC40; }\n",
       ".datatable .row_index {  background: var(--jp-border-color3);  border-right: 1px solid var(--jp-border-color0);  color: var(--jp-ui-font-color3);  font-size: 9px;}\n",
       ".datatable .frame tbody td { text-align: left; }\n",
       ".datatable .frame tr.coltypes .row_index {  background: var(--jp-border-color0);}\n",
       ".datatable th:nth-child(2) { padding-left: 12px; }\n",
       ".datatable .hellipsis {  color: var(--jp-cell-editor-border-color);}\n",
       ".datatable .vellipsis {  background: var(--jp-layout-color0);  color: var(--jp-cell-editor-border-color);}\n",
       ".datatable .na {  color: var(--jp-cell-editor-border-color);  font-size: 80%;}\n",
       ".datatable .sp {  opacity: 0.25;}\n",
       ".datatable .footer { font-size: 9px; }\n",
       ".datatable .frame_dimensions {  background: var(--jp-border-color3);  border-top: 1px solid var(--jp-border-color0);  color: var(--jp-ui-font-color3);  display: inline-block;  opacity: 0.6;  padding: 1px 10px 1px 5px;}\n",
       "</style>\n"
      ],
      "text/plain": [
       "<IPython.core.display.HTML object>"
      ]
     },
     "metadata": {},
     "output_type": "display_data"
    }
   ],
   "source": [
    "import numpy as np # linear algebra\n",
    "import pandas as pd # data processing, CSV file I/O (e.g. pd.read_csv)\n",
    "from sklearn.model_selection import train_test_split\n",
    "from sklearn.impute import SimpleImputer\n",
    "from sklearn.preprocessing import OneHotEncoder\n",
    "from sklearn.ensemble import RandomForestClassifier\n",
    "from lightgbm import LGBMClassifier\n",
    "from sklearn.metrics import roc_auc_score\n",
    "from sklearn import preprocessing\n",
    "from sklearn import ensemble\n",
    "from sklearn import metrics\n",
    "from sklearn import model_selection\n",
    "from sklearn import decomposition\n",
    "from sklearn import preprocessing\n",
    "from sklearn.preprocessing import StandardScaler\n",
    "import os"
   ]
  },
  {
   "cell_type": "markdown",
   "id": "627d419d",
   "metadata": {
    "papermill": {
     "duration": 0.007573,
     "end_time": "2022-08-18T05:06:36.650181",
     "exception": false,
     "start_time": "2022-08-18T05:06:36.642608",
     "status": "completed"
    },
    "tags": []
   },
   "source": [
    "### Reading Data"
   ]
  },
  {
   "cell_type": "code",
   "execution_count": 2,
   "id": "1eb0877b",
   "metadata": {
    "execution": {
     "iopub.execute_input": "2022-08-18T05:06:36.667679Z",
     "iopub.status.busy": "2022-08-18T05:06:36.666948Z",
     "iopub.status.idle": "2022-08-18T05:06:36.981874Z",
     "shell.execute_reply": "2022-08-18T05:06:36.980544Z"
    },
    "papermill": {
     "duration": 0.327247,
     "end_time": "2022-08-18T05:06:36.985097",
     "exception": false,
     "start_time": "2022-08-18T05:06:36.657850",
     "status": "completed"
    },
    "tags": []
   },
   "outputs": [],
   "source": [
    "data = pd.read_csv('/kaggle/input/tabular-playground-series-aug-2022/train.csv')\n",
    "test_data = pd.read_csv('/kaggle/input/tabular-playground-series-aug-2022/test.csv')\n",
    "sample_submission = pd.read_csv('/kaggle/input/tabular-playground-series-aug-2022/sample_submission.csv')"
   ]
  },
  {
   "cell_type": "code",
   "execution_count": 3,
   "id": "f2b228b8",
   "metadata": {
    "execution": {
     "iopub.execute_input": "2022-08-18T05:06:37.003121Z",
     "iopub.status.busy": "2022-08-18T05:06:37.002677Z",
     "iopub.status.idle": "2022-08-18T05:06:37.039334Z",
     "shell.execute_reply": "2022-08-18T05:06:37.038313Z"
    },
    "papermill": {
     "duration": 0.051092,
     "end_time": "2022-08-18T05:06:37.044278",
     "exception": false,
     "start_time": "2022-08-18T05:06:36.993186",
     "status": "completed"
    },
    "tags": []
   },
   "outputs": [
    {
     "name": "stdout",
     "output_type": "stream",
     "text": [
      "data set shape:  (26570, 26)\n"
     ]
    },
    {
     "data": {
      "text/html": [
       "<div>\n",
       "<style scoped>\n",
       "    .dataframe tbody tr th:only-of-type {\n",
       "        vertical-align: middle;\n",
       "    }\n",
       "\n",
       "    .dataframe tbody tr th {\n",
       "        vertical-align: top;\n",
       "    }\n",
       "\n",
       "    .dataframe thead th {\n",
       "        text-align: right;\n",
       "    }\n",
       "</style>\n",
       "<table border=\"1\" class=\"dataframe\">\n",
       "  <thead>\n",
       "    <tr style=\"text-align: right;\">\n",
       "      <th></th>\n",
       "      <th>id</th>\n",
       "      <th>product_code</th>\n",
       "      <th>loading</th>\n",
       "      <th>attribute_0</th>\n",
       "      <th>attribute_1</th>\n",
       "      <th>attribute_2</th>\n",
       "      <th>attribute_3</th>\n",
       "      <th>measurement_0</th>\n",
       "      <th>measurement_1</th>\n",
       "      <th>measurement_2</th>\n",
       "      <th>...</th>\n",
       "      <th>measurement_9</th>\n",
       "      <th>measurement_10</th>\n",
       "      <th>measurement_11</th>\n",
       "      <th>measurement_12</th>\n",
       "      <th>measurement_13</th>\n",
       "      <th>measurement_14</th>\n",
       "      <th>measurement_15</th>\n",
       "      <th>measurement_16</th>\n",
       "      <th>measurement_17</th>\n",
       "      <th>failure</th>\n",
       "    </tr>\n",
       "  </thead>\n",
       "  <tbody>\n",
       "    <tr>\n",
       "      <th>0</th>\n",
       "      <td>0</td>\n",
       "      <td>A</td>\n",
       "      <td>80.10</td>\n",
       "      <td>material_7</td>\n",
       "      <td>material_8</td>\n",
       "      <td>9</td>\n",
       "      <td>5</td>\n",
       "      <td>7</td>\n",
       "      <td>8</td>\n",
       "      <td>4</td>\n",
       "      <td>...</td>\n",
       "      <td>10.672</td>\n",
       "      <td>15.859</td>\n",
       "      <td>17.594</td>\n",
       "      <td>15.193</td>\n",
       "      <td>15.029</td>\n",
       "      <td>NaN</td>\n",
       "      <td>13.034</td>\n",
       "      <td>14.684</td>\n",
       "      <td>764.100</td>\n",
       "      <td>0</td>\n",
       "    </tr>\n",
       "    <tr>\n",
       "      <th>1</th>\n",
       "      <td>1</td>\n",
       "      <td>A</td>\n",
       "      <td>84.89</td>\n",
       "      <td>material_7</td>\n",
       "      <td>material_8</td>\n",
       "      <td>9</td>\n",
       "      <td>5</td>\n",
       "      <td>14</td>\n",
       "      <td>3</td>\n",
       "      <td>3</td>\n",
       "      <td>...</td>\n",
       "      <td>12.448</td>\n",
       "      <td>17.947</td>\n",
       "      <td>17.915</td>\n",
       "      <td>11.755</td>\n",
       "      <td>14.732</td>\n",
       "      <td>15.425</td>\n",
       "      <td>14.395</td>\n",
       "      <td>15.631</td>\n",
       "      <td>682.057</td>\n",
       "      <td>0</td>\n",
       "    </tr>\n",
       "    <tr>\n",
       "      <th>2</th>\n",
       "      <td>2</td>\n",
       "      <td>A</td>\n",
       "      <td>82.43</td>\n",
       "      <td>material_7</td>\n",
       "      <td>material_8</td>\n",
       "      <td>9</td>\n",
       "      <td>5</td>\n",
       "      <td>12</td>\n",
       "      <td>1</td>\n",
       "      <td>5</td>\n",
       "      <td>...</td>\n",
       "      <td>12.715</td>\n",
       "      <td>15.607</td>\n",
       "      <td>NaN</td>\n",
       "      <td>13.798</td>\n",
       "      <td>16.711</td>\n",
       "      <td>18.631</td>\n",
       "      <td>14.094</td>\n",
       "      <td>17.946</td>\n",
       "      <td>663.376</td>\n",
       "      <td>0</td>\n",
       "    </tr>\n",
       "    <tr>\n",
       "      <th>3</th>\n",
       "      <td>3</td>\n",
       "      <td>A</td>\n",
       "      <td>101.07</td>\n",
       "      <td>material_7</td>\n",
       "      <td>material_8</td>\n",
       "      <td>9</td>\n",
       "      <td>5</td>\n",
       "      <td>13</td>\n",
       "      <td>2</td>\n",
       "      <td>6</td>\n",
       "      <td>...</td>\n",
       "      <td>12.471</td>\n",
       "      <td>16.346</td>\n",
       "      <td>18.377</td>\n",
       "      <td>10.020</td>\n",
       "      <td>15.250</td>\n",
       "      <td>15.562</td>\n",
       "      <td>16.154</td>\n",
       "      <td>17.172</td>\n",
       "      <td>826.282</td>\n",
       "      <td>0</td>\n",
       "    </tr>\n",
       "    <tr>\n",
       "      <th>4</th>\n",
       "      <td>4</td>\n",
       "      <td>A</td>\n",
       "      <td>188.06</td>\n",
       "      <td>material_7</td>\n",
       "      <td>material_8</td>\n",
       "      <td>9</td>\n",
       "      <td>5</td>\n",
       "      <td>9</td>\n",
       "      <td>2</td>\n",
       "      <td>8</td>\n",
       "      <td>...</td>\n",
       "      <td>10.337</td>\n",
       "      <td>17.082</td>\n",
       "      <td>19.932</td>\n",
       "      <td>12.428</td>\n",
       "      <td>16.182</td>\n",
       "      <td>12.760</td>\n",
       "      <td>13.153</td>\n",
       "      <td>16.412</td>\n",
       "      <td>579.885</td>\n",
       "      <td>0</td>\n",
       "    </tr>\n",
       "  </tbody>\n",
       "</table>\n",
       "<p>5 rows × 26 columns</p>\n",
       "</div>"
      ],
      "text/plain": [
       "   id product_code  loading attribute_0 attribute_1  attribute_2  attribute_3  \\\n",
       "0   0            A    80.10  material_7  material_8            9            5   \n",
       "1   1            A    84.89  material_7  material_8            9            5   \n",
       "2   2            A    82.43  material_7  material_8            9            5   \n",
       "3   3            A   101.07  material_7  material_8            9            5   \n",
       "4   4            A   188.06  material_7  material_8            9            5   \n",
       "\n",
       "   measurement_0  measurement_1  measurement_2  ...  measurement_9  \\\n",
       "0              7              8              4  ...         10.672   \n",
       "1             14              3              3  ...         12.448   \n",
       "2             12              1              5  ...         12.715   \n",
       "3             13              2              6  ...         12.471   \n",
       "4              9              2              8  ...         10.337   \n",
       "\n",
       "   measurement_10  measurement_11  measurement_12  measurement_13  \\\n",
       "0          15.859          17.594          15.193          15.029   \n",
       "1          17.947          17.915          11.755          14.732   \n",
       "2          15.607             NaN          13.798          16.711   \n",
       "3          16.346          18.377          10.020          15.250   \n",
       "4          17.082          19.932          12.428          16.182   \n",
       "\n",
       "   measurement_14  measurement_15  measurement_16  measurement_17  failure  \n",
       "0             NaN          13.034          14.684         764.100        0  \n",
       "1          15.425          14.395          15.631         682.057        0  \n",
       "2          18.631          14.094          17.946         663.376        0  \n",
       "3          15.562          16.154          17.172         826.282        0  \n",
       "4          12.760          13.153          16.412         579.885        0  \n",
       "\n",
       "[5 rows x 26 columns]"
      ]
     },
     "execution_count": 3,
     "metadata": {},
     "output_type": "execute_result"
    }
   ],
   "source": [
    "print('data set shape: ', data.shape)\n",
    "data.head()"
   ]
  },
  {
   "cell_type": "code",
   "execution_count": 4,
   "id": "5485b8ad",
   "metadata": {
    "execution": {
     "iopub.execute_input": "2022-08-18T05:06:37.062625Z",
     "iopub.status.busy": "2022-08-18T05:06:37.061861Z",
     "iopub.status.idle": "2022-08-18T05:06:37.285231Z",
     "shell.execute_reply": "2022-08-18T05:06:37.283978Z"
    },
    "papermill": {
     "duration": 0.235385,
     "end_time": "2022-08-18T05:06:37.287746",
     "exception": false,
     "start_time": "2022-08-18T05:06:37.052361",
     "status": "completed"
    },
    "tags": []
   },
   "outputs": [
    {
     "data": {
      "text/plain": [
       "<AxesSubplot:>"
      ]
     },
     "execution_count": 4,
     "metadata": {},
     "output_type": "execute_result"
    },
    {
     "data": {
      "image/png": "[encoded data removed]",
      "text/plain": [
       "<Figure size 432x288 with 1 Axes>"
      ]
     },
     "metadata": {
      "needs_background": "light"
     },
     "output_type": "display_data"
    }
   ],
   "source": [
    "data.failure.hist()"
   ]
  },
  {
   "cell_type": "markdown",
   "id": "93c2c023",
   "metadata": {
    "papermill": {
     "duration": 0.00819,
     "end_time": "2022-08-18T05:06:37.304539",
     "exception": false,
     "start_time": "2022-08-18T05:06:37.296349",
     "status": "completed"
    },
    "tags": []
   },
   "source": [
    "The above histogram shows that the it is a classification problem"
   ]
  },
  {
   "cell_type": "code",
   "execution_count": 5,
   "id": "2c9853bb",
   "metadata": {
    "execution": {
     "iopub.execute_input": "2022-08-18T05:06:37.323661Z",
     "iopub.status.busy": "2022-08-18T05:06:37.322969Z",
     "iopub.status.idle": "2022-08-18T05:06:37.341377Z",
     "shell.execute_reply": "2022-08-18T05:06:37.339737Z"
    },
    "papermill": {
     "duration": 0.031122,
     "end_time": "2022-08-18T05:06:37.344180",
     "exception": false,
     "start_time": "2022-08-18T05:06:37.313058",
     "status": "completed"
    },
    "tags": []
   },
   "outputs": [
    {
     "name": "stdout",
     "output_type": "stream",
     "text": [
      "Null values in dataset:  20273\n",
      "Null values in test dataset:  15709\n"
     ]
    }
   ],
   "source": [
    "print(\"Null values in dataset: \", data.isnull().sum().sum())\n",
    "print(\"Null values in test dataset: \", test_data.isnull().sum().sum())"
   ]
  },
  {
   "cell_type": "markdown",
   "id": "05542de6",
   "metadata": {
    "papermill": {
     "duration": 0.008043,
     "end_time": "2022-08-18T05:06:37.361658",
     "exception": false,
     "start_time": "2022-08-18T05:06:37.353615",
     "status": "completed"
    },
    "tags": []
   },
   "source": [
    "The null values exist in both the dataset and the test dataset\n",
    "\n",
    "Now we will seperate the target ('failure') in y and remaining dataset in X"
   ]
  },
  {
   "cell_type": "code",
   "execution_count": 6,
   "id": "bf79d155",
   "metadata": {
    "execution": {
     "iopub.execute_input": "2022-08-18T05:06:37.381287Z",
     "iopub.status.busy": "2022-08-18T05:06:37.380133Z",
     "iopub.status.idle": "2022-08-18T05:06:37.413149Z",
     "shell.execute_reply": "2022-08-18T05:06:37.412041Z"
    },
    "papermill": {
     "duration": 0.045626,
     "end_time": "2022-08-18T05:06:37.415728",
     "exception": false,
     "start_time": "2022-08-18T05:06:37.370102",
     "status": "completed"
    },
    "tags": []
   },
   "outputs": [
    {
     "data": {
      "text/html": [
       "<div>\n",
       "<style scoped>\n",
       "    .dataframe tbody tr th:only-of-type {\n",
       "        vertical-align: middle;\n",
       "    }\n",
       "\n",
       "    .dataframe tbody tr th {\n",
       "        vertical-align: top;\n",
       "    }\n",
       "\n",
       "    .dataframe thead th {\n",
       "        text-align: right;\n",
       "    }\n",
       "</style>\n",
       "<table border=\"1\" class=\"dataframe\">\n",
       "  <thead>\n",
       "    <tr style=\"text-align: right;\">\n",
       "      <th></th>\n",
       "      <th>product_code</th>\n",
       "      <th>loading</th>\n",
       "      <th>attribute_0</th>\n",
       "      <th>attribute_1</th>\n",
       "      <th>attribute_2</th>\n",
       "      <th>attribute_3</th>\n",
       "      <th>measurement_0</th>\n",
       "      <th>measurement_1</th>\n",
       "      <th>measurement_2</th>\n",
       "      <th>measurement_3</th>\n",
       "      <th>...</th>\n",
       "      <th>measurement_8</th>\n",
       "      <th>measurement_9</th>\n",
       "      <th>measurement_10</th>\n",
       "      <th>measurement_11</th>\n",
       "      <th>measurement_12</th>\n",
       "      <th>measurement_13</th>\n",
       "      <th>measurement_14</th>\n",
       "      <th>measurement_15</th>\n",
       "      <th>measurement_16</th>\n",
       "      <th>measurement_17</th>\n",
       "    </tr>\n",
       "  </thead>\n",
       "  <tbody>\n",
       "    <tr>\n",
       "      <th>0</th>\n",
       "      <td>A</td>\n",
       "      <td>80.10</td>\n",
       "      <td>material_7</td>\n",
       "      <td>material_8</td>\n",
       "      <td>9</td>\n",
       "      <td>5</td>\n",
       "      <td>7</td>\n",
       "      <td>8</td>\n",
       "      <td>4</td>\n",
       "      <td>18.040</td>\n",
       "      <td>...</td>\n",
       "      <td>20.155</td>\n",
       "      <td>10.672</td>\n",
       "      <td>15.859</td>\n",
       "      <td>17.594</td>\n",
       "      <td>15.193</td>\n",
       "      <td>15.029</td>\n",
       "      <td>NaN</td>\n",
       "      <td>13.034</td>\n",
       "      <td>14.684</td>\n",
       "      <td>764.100</td>\n",
       "    </tr>\n",
       "    <tr>\n",
       "      <th>1</th>\n",
       "      <td>A</td>\n",
       "      <td>84.89</td>\n",
       "      <td>material_7</td>\n",
       "      <td>material_8</td>\n",
       "      <td>9</td>\n",
       "      <td>5</td>\n",
       "      <td>14</td>\n",
       "      <td>3</td>\n",
       "      <td>3</td>\n",
       "      <td>18.213</td>\n",
       "      <td>...</td>\n",
       "      <td>17.889</td>\n",
       "      <td>12.448</td>\n",
       "      <td>17.947</td>\n",
       "      <td>17.915</td>\n",
       "      <td>11.755</td>\n",
       "      <td>14.732</td>\n",
       "      <td>15.425</td>\n",
       "      <td>14.395</td>\n",
       "      <td>15.631</td>\n",
       "      <td>682.057</td>\n",
       "    </tr>\n",
       "    <tr>\n",
       "      <th>2</th>\n",
       "      <td>A</td>\n",
       "      <td>82.43</td>\n",
       "      <td>material_7</td>\n",
       "      <td>material_8</td>\n",
       "      <td>9</td>\n",
       "      <td>5</td>\n",
       "      <td>12</td>\n",
       "      <td>1</td>\n",
       "      <td>5</td>\n",
       "      <td>18.057</td>\n",
       "      <td>...</td>\n",
       "      <td>18.288</td>\n",
       "      <td>12.715</td>\n",
       "      <td>15.607</td>\n",
       "      <td>NaN</td>\n",
       "      <td>13.798</td>\n",
       "      <td>16.711</td>\n",
       "      <td>18.631</td>\n",
       "      <td>14.094</td>\n",
       "      <td>17.946</td>\n",
       "      <td>663.376</td>\n",
       "    </tr>\n",
       "    <tr>\n",
       "      <th>3</th>\n",
       "      <td>A</td>\n",
       "      <td>101.07</td>\n",
       "      <td>material_7</td>\n",
       "      <td>material_8</td>\n",
       "      <td>9</td>\n",
       "      <td>5</td>\n",
       "      <td>13</td>\n",
       "      <td>2</td>\n",
       "      <td>6</td>\n",
       "      <td>17.295</td>\n",
       "      <td>...</td>\n",
       "      <td>19.060</td>\n",
       "      <td>12.471</td>\n",
       "      <td>16.346</td>\n",
       "      <td>18.377</td>\n",
       "      <td>10.020</td>\n",
       "      <td>15.250</td>\n",
       "      <td>15.562</td>\n",
       "      <td>16.154</td>\n",
       "      <td>17.172</td>\n",
       "      <td>826.282</td>\n",
       "    </tr>\n",
       "    <tr>\n",
       "      <th>4</th>\n",
       "      <td>A</td>\n",
       "      <td>188.06</td>\n",
       "      <td>material_7</td>\n",
       "      <td>material_8</td>\n",
       "      <td>9</td>\n",
       "      <td>5</td>\n",
       "      <td>9</td>\n",
       "      <td>2</td>\n",
       "      <td>8</td>\n",
       "      <td>19.346</td>\n",
       "      <td>...</td>\n",
       "      <td>18.093</td>\n",
       "      <td>10.337</td>\n",
       "      <td>17.082</td>\n",
       "      <td>19.932</td>\n",
       "      <td>12.428</td>\n",
       "      <td>16.182</td>\n",
       "      <td>12.760</td>\n",
       "      <td>13.153</td>\n",
       "      <td>16.412</td>\n",
       "      <td>579.885</td>\n",
       "    </tr>\n",
       "  </tbody>\n",
       "</table>\n",
       "<p>5 rows × 24 columns</p>\n",
       "</div>"
      ],
      "text/plain": [
       "  product_code  loading attribute_0 attribute_1  attribute_2  attribute_3  \\\n",
       "0            A    80.10  material_7  material_8            9            5   \n",
       "1            A    84.89  material_7  material_8            9            5   \n",
       "2            A    82.43  material_7  material_8            9            5   \n",
       "3            A   101.07  material_7  material_8            9            5   \n",
       "4            A   188.06  material_7  material_8            9            5   \n",
       "\n",
       "   measurement_0  measurement_1  measurement_2  measurement_3  ...  \\\n",
       "0              7              8              4         18.040  ...   \n",
       "1             14              3              3         18.213  ...   \n",
       "2             12              1              5         18.057  ...   \n",
       "3             13              2              6         17.295  ...   \n",
       "4              9              2              8         19.346  ...   \n",
       "\n",
       "   measurement_8  measurement_9  measurement_10  measurement_11  \\\n",
       "0         20.155         10.672          15.859          17.594   \n",
       "1         17.889         12.448          17.947          17.915   \n",
       "2         18.288         12.715          15.607             NaN   \n",
       "3         19.060         12.471          16.346          18.377   \n",
       "4         18.093         10.337          17.082          19.932   \n",
       "\n",
       "   measurement_12  measurement_13  measurement_14  measurement_15  \\\n",
       "0          15.193          15.029             NaN          13.034   \n",
       "1          11.755          14.732          15.425          14.395   \n",
       "2          13.798          16.711          18.631          14.094   \n",
       "3          10.020          15.250          15.562          16.154   \n",
       "4          12.428          16.182          12.760          13.153   \n",
       "\n",
       "   measurement_16  measurement_17  \n",
       "0          14.684         764.100  \n",
       "1          15.631         682.057  \n",
       "2          17.946         663.376  \n",
       "3          17.172         826.282  \n",
       "4          16.412         579.885  \n",
       "\n",
       "[5 rows x 24 columns]"
      ]
     },
     "execution_count": 6,
     "metadata": {},
     "output_type": "execute_result"
    }
   ],
   "source": [
    "y = data.failure\n",
    "X = data.drop(['failure','id'], axis =1 )\n",
    "del data\n",
    "X.head()"
   ]
  },
  {
   "cell_type": "code",
   "execution_count": 7,
   "id": "304226ae",
   "metadata": {
    "execution": {
     "iopub.execute_input": "2022-08-18T05:06:37.435403Z",
     "iopub.status.busy": "2022-08-18T05:06:37.434970Z",
     "iopub.status.idle": "2022-08-18T05:06:37.467998Z",
     "shell.execute_reply": "2022-08-18T05:06:37.466739Z"
    },
    "papermill": {
     "duration": 0.046461,
     "end_time": "2022-08-18T05:06:37.471133",
     "exception": false,
     "start_time": "2022-08-18T05:06:37.424672",
     "status": "completed"
    },
    "tags": []
   },
   "outputs": [
    {
     "data": {
      "text/html": [
       "<div>\n",
       "<style scoped>\n",
       "    .dataframe tbody tr th:only-of-type {\n",
       "        vertical-align: middle;\n",
       "    }\n",
       "\n",
       "    .dataframe tbody tr th {\n",
       "        vertical-align: top;\n",
       "    }\n",
       "\n",
       "    .dataframe thead th {\n",
       "        text-align: right;\n",
       "    }\n",
       "</style>\n",
       "<table border=\"1\" class=\"dataframe\">\n",
       "  <thead>\n",
       "    <tr style=\"text-align: right;\">\n",
       "      <th></th>\n",
       "      <th>product_code</th>\n",
       "      <th>loading</th>\n",
       "      <th>attribute_0</th>\n",
       "      <th>attribute_1</th>\n",
       "      <th>attribute_2</th>\n",
       "      <th>attribute_3</th>\n",
       "      <th>measurement_0</th>\n",
       "      <th>measurement_1</th>\n",
       "      <th>measurement_2</th>\n",
       "      <th>measurement_3</th>\n",
       "      <th>...</th>\n",
       "      <th>measurement_8</th>\n",
       "      <th>measurement_9</th>\n",
       "      <th>measurement_10</th>\n",
       "      <th>measurement_11</th>\n",
       "      <th>measurement_12</th>\n",
       "      <th>measurement_13</th>\n",
       "      <th>measurement_14</th>\n",
       "      <th>measurement_15</th>\n",
       "      <th>measurement_16</th>\n",
       "      <th>measurement_17</th>\n",
       "    </tr>\n",
       "  </thead>\n",
       "  <tbody>\n",
       "    <tr>\n",
       "      <th>0</th>\n",
       "      <td>F</td>\n",
       "      <td>119.57</td>\n",
       "      <td>material_5</td>\n",
       "      <td>material_6</td>\n",
       "      <td>6</td>\n",
       "      <td>4</td>\n",
       "      <td>6</td>\n",
       "      <td>9</td>\n",
       "      <td>6</td>\n",
       "      <td>19.305</td>\n",
       "      <td>...</td>\n",
       "      <td>18.654</td>\n",
       "      <td>10.802</td>\n",
       "      <td>15.909</td>\n",
       "      <td>18.070</td>\n",
       "      <td>13.772</td>\n",
       "      <td>13.659</td>\n",
       "      <td>16.825</td>\n",
       "      <td>13.742</td>\n",
       "      <td>17.710</td>\n",
       "      <td>634.612</td>\n",
       "    </tr>\n",
       "    <tr>\n",
       "      <th>1</th>\n",
       "      <td>F</td>\n",
       "      <td>113.51</td>\n",
       "      <td>material_5</td>\n",
       "      <td>material_6</td>\n",
       "      <td>6</td>\n",
       "      <td>4</td>\n",
       "      <td>11</td>\n",
       "      <td>8</td>\n",
       "      <td>0</td>\n",
       "      <td>17.883</td>\n",
       "      <td>...</td>\n",
       "      <td>19.368</td>\n",
       "      <td>12.032</td>\n",
       "      <td>13.998</td>\n",
       "      <td>NaN</td>\n",
       "      <td>12.473</td>\n",
       "      <td>17.468</td>\n",
       "      <td>16.708</td>\n",
       "      <td>14.776</td>\n",
       "      <td>14.102</td>\n",
       "      <td>537.037</td>\n",
       "    </tr>\n",
       "    <tr>\n",
       "      <th>2</th>\n",
       "      <td>F</td>\n",
       "      <td>112.16</td>\n",
       "      <td>material_5</td>\n",
       "      <td>material_6</td>\n",
       "      <td>6</td>\n",
       "      <td>4</td>\n",
       "      <td>8</td>\n",
       "      <td>12</td>\n",
       "      <td>4</td>\n",
       "      <td>18.475</td>\n",
       "      <td>...</td>\n",
       "      <td>17.774</td>\n",
       "      <td>11.743</td>\n",
       "      <td>17.046</td>\n",
       "      <td>18.086</td>\n",
       "      <td>10.907</td>\n",
       "      <td>13.363</td>\n",
       "      <td>15.737</td>\n",
       "      <td>17.065</td>\n",
       "      <td>16.021</td>\n",
       "      <td>658.995</td>\n",
       "    </tr>\n",
       "    <tr>\n",
       "      <th>3</th>\n",
       "      <td>F</td>\n",
       "      <td>112.72</td>\n",
       "      <td>material_5</td>\n",
       "      <td>material_6</td>\n",
       "      <td>6</td>\n",
       "      <td>4</td>\n",
       "      <td>8</td>\n",
       "      <td>11</td>\n",
       "      <td>10</td>\n",
       "      <td>16.518</td>\n",
       "      <td>...</td>\n",
       "      <td>18.948</td>\n",
       "      <td>11.790</td>\n",
       "      <td>18.165</td>\n",
       "      <td>16.163</td>\n",
       "      <td>10.933</td>\n",
       "      <td>15.501</td>\n",
       "      <td>15.667</td>\n",
       "      <td>12.620</td>\n",
       "      <td>16.111</td>\n",
       "      <td>594.301</td>\n",
       "    </tr>\n",
       "    <tr>\n",
       "      <th>4</th>\n",
       "      <td>F</td>\n",
       "      <td>208.00</td>\n",
       "      <td>material_5</td>\n",
       "      <td>material_6</td>\n",
       "      <td>6</td>\n",
       "      <td>4</td>\n",
       "      <td>14</td>\n",
       "      <td>16</td>\n",
       "      <td>8</td>\n",
       "      <td>17.808</td>\n",
       "      <td>...</td>\n",
       "      <td>19.141</td>\n",
       "      <td>12.370</td>\n",
       "      <td>14.578</td>\n",
       "      <td>17.849</td>\n",
       "      <td>11.941</td>\n",
       "      <td>16.070</td>\n",
       "      <td>16.183</td>\n",
       "      <td>13.324</td>\n",
       "      <td>17.150</td>\n",
       "      <td>801.044</td>\n",
       "    </tr>\n",
       "  </tbody>\n",
       "</table>\n",
       "<p>5 rows × 24 columns</p>\n",
       "</div>"
      ],
      "text/plain": [
       "  product_code  loading attribute_0 attribute_1  attribute_2  attribute_3  \\\n",
       "0            F   119.57  material_5  material_6            6            4   \n",
       "1            F   113.51  material_5  material_6            6            4   \n",
       "2            F   112.16  material_5  material_6            6            4   \n",
       "3            F   112.72  material_5  material_6            6            4   \n",
       "4            F   208.00  material_5  material_6            6            4   \n",
       "\n",
       "   measurement_0  measurement_1  measurement_2  measurement_3  ...  \\\n",
       "0              6              9              6         19.305  ...   \n",
       "1             11              8              0         17.883  ...   \n",
       "2              8             12              4         18.475  ...   \n",
       "3              8             11             10         16.518  ...   \n",
       "4             14             16              8         17.808  ...   \n",
       "\n",
       "   measurement_8  measurement_9  measurement_10  measurement_11  \\\n",
       "0         18.654         10.802          15.909          18.070   \n",
       "1         19.368         12.032          13.998             NaN   \n",
       "2         17.774         11.743          17.046          18.086   \n",
       "3         18.948         11.790          18.165          16.163   \n",
       "4         19.141         12.370          14.578          17.849   \n",
       "\n",
       "   measurement_12  measurement_13  measurement_14  measurement_15  \\\n",
       "0          13.772          13.659          16.825          13.742   \n",
       "1          12.473          17.468          16.708          14.776   \n",
       "2          10.907          13.363          15.737          17.065   \n",
       "3          10.933          15.501          15.667          12.620   \n",
       "4          11.941          16.070          16.183          13.324   \n",
       "\n",
       "   measurement_16  measurement_17  \n",
       "0          17.710         634.612  \n",
       "1          14.102         537.037  \n",
       "2          16.021         658.995  \n",
       "3          16.111         594.301  \n",
       "4          17.150         801.044  \n",
       "\n",
       "[5 rows x 24 columns]"
      ]
     },
     "execution_count": 7,
     "metadata": {},
     "output_type": "execute_result"
    }
   ],
   "source": [
    "test_data = test_data.drop(['id'], axis =1 )\n",
    "test_data.head()"
   ]
  },
  {
   "cell_type": "code",
   "execution_count": 8,
   "id": "e00a26bf",
   "metadata": {
    "execution": {
     "iopub.execute_input": "2022-08-18T05:06:37.492546Z",
     "iopub.status.busy": "2022-08-18T05:06:37.492071Z",
     "iopub.status.idle": "2022-08-18T05:06:37.510509Z",
     "shell.execute_reply": "2022-08-18T05:06:37.509277Z"
    },
    "papermill": {
     "duration": 0.032855,
     "end_time": "2022-08-18T05:06:37.513532",
     "exception": false,
     "start_time": "2022-08-18T05:06:37.480677",
     "status": "completed"
    },
    "tags": []
   },
   "outputs": [],
   "source": [
    "# Divide data into training and validation subsets\n",
    "X_train_full, X_valid_full, y_train, y_valid = train_test_split(X, y, train_size=0.8, test_size=0.2,\n",
    "                                                                random_state=0)"
   ]
  },
  {
   "cell_type": "markdown",
   "id": "aee6f1ac",
   "metadata": {
    "papermill": {
     "duration": 0.008899,
     "end_time": "2022-08-18T05:06:37.531796",
     "exception": false,
     "start_time": "2022-08-18T05:06:37.522897",
     "status": "completed"
    },
    "tags": []
   },
   "source": [
    "Recognizing the categorical columns and numerical columns"
   ]
  },
  {
   "cell_type": "code",
   "execution_count": 9,
   "id": "bce4fd29",
   "metadata": {
    "execution": {
     "iopub.execute_input": "2022-08-18T05:06:37.552532Z",
     "iopub.status.busy": "2022-08-18T05:06:37.552086Z",
     "iopub.status.idle": "2022-08-18T05:06:37.579675Z",
     "shell.execute_reply": "2022-08-18T05:06:37.578502Z"
    },
    "papermill": {
     "duration": 0.041185,
     "end_time": "2022-08-18T05:06:37.582259",
     "exception": false,
     "start_time": "2022-08-18T05:06:37.541074",
     "status": "completed"
    },
    "tags": []
   },
   "outputs": [
    {
     "name": "stdout",
     "output_type": "stream",
     "text": [
      "categorical columns : ['product_code', 'attribute_0', 'attribute_1']\n",
      "numerical columns : ['loading', 'attribute_2', 'attribute_3', 'measurement_0', 'measurement_1', 'measurement_2', 'measurement_3', 'measurement_4', 'measurement_5', 'measurement_6', 'measurement_7', 'measurement_8', 'measurement_9', 'measurement_10', 'measurement_11', 'measurement_12', 'measurement_13', 'measurement_14', 'measurement_15', 'measurement_16', 'measurement_17']\n"
     ]
    }
   ],
   "source": [
    "categorical_cols = [cname for cname in X_train_full.columns if X_train_full[cname].nunique() < 10 and \n",
    "                        X_train_full[cname].dtype == \"object\"]\n",
    "numerical_cols = [cname for cname in X_train_full.columns if X_train_full[cname].dtype in ['int64', 'float64']]\n",
    "\n",
    "print('categorical columns :', categorical_cols)\n",
    "print('numerical columns :', numerical_cols)"
   ]
  },
  {
   "cell_type": "code",
   "execution_count": 10,
   "id": "5bb62bc6",
   "metadata": {
    "execution": {
     "iopub.execute_input": "2022-08-18T05:06:37.602907Z",
     "iopub.status.busy": "2022-08-18T05:06:37.602479Z",
     "iopub.status.idle": "2022-08-18T05:06:37.626287Z",
     "shell.execute_reply": "2022-08-18T05:06:37.625022Z"
    },
    "papermill": {
     "duration": 0.037554,
     "end_time": "2022-08-18T05:06:37.629266",
     "exception": false,
     "start_time": "2022-08-18T05:06:37.591712",
     "status": "completed"
    },
    "tags": []
   },
   "outputs": [],
   "source": [
    "my_cols = categorical_cols + numerical_cols\n",
    "X_train = X_train_full[my_cols].copy()\n",
    "X_valid = X_valid_full[my_cols].copy()\n",
    "X_test = test_data[my_cols].copy()"
   ]
  },
  {
   "cell_type": "code",
   "execution_count": 11,
   "id": "a91b3c25",
   "metadata": {
    "execution": {
     "iopub.execute_input": "2022-08-18T05:06:37.650233Z",
     "iopub.status.busy": "2022-08-18T05:06:37.649796Z",
     "iopub.status.idle": "2022-08-18T05:06:37.680859Z",
     "shell.execute_reply": "2022-08-18T05:06:37.679452Z"
    },
    "papermill": {
     "duration": 0.044718,
     "end_time": "2022-08-18T05:06:37.683667",
     "exception": false,
     "start_time": "2022-08-18T05:06:37.638949",
     "status": "completed"
    },
    "tags": []
   },
   "outputs": [
    {
     "name": "stdout",
     "output_type": "stream",
     "text": [
      "X_train shape:  (21256, 24)\n"
     ]
    },
    {
     "data": {
      "text/html": [
       "<div>\n",
       "<style scoped>\n",
       "    .dataframe tbody tr th:only-of-type {\n",
       "        vertical-align: middle;\n",
       "    }\n",
       "\n",
       "    .dataframe tbody tr th {\n",
       "        vertical-align: top;\n",
       "    }\n",
       "\n",
       "    .dataframe thead th {\n",
       "        text-align: right;\n",
       "    }\n",
       "</style>\n",
       "<table border=\"1\" class=\"dataframe\">\n",
       "  <thead>\n",
       "    <tr style=\"text-align: right;\">\n",
       "      <th></th>\n",
       "      <th>product_code</th>\n",
       "      <th>attribute_0</th>\n",
       "      <th>attribute_1</th>\n",
       "      <th>loading</th>\n",
       "      <th>attribute_2</th>\n",
       "      <th>attribute_3</th>\n",
       "      <th>measurement_0</th>\n",
       "      <th>measurement_1</th>\n",
       "      <th>measurement_2</th>\n",
       "      <th>measurement_3</th>\n",
       "      <th>...</th>\n",
       "      <th>measurement_8</th>\n",
       "      <th>measurement_9</th>\n",
       "      <th>measurement_10</th>\n",
       "      <th>measurement_11</th>\n",
       "      <th>measurement_12</th>\n",
       "      <th>measurement_13</th>\n",
       "      <th>measurement_14</th>\n",
       "      <th>measurement_15</th>\n",
       "      <th>measurement_16</th>\n",
       "      <th>measurement_17</th>\n",
       "    </tr>\n",
       "  </thead>\n",
       "  <tbody>\n",
       "    <tr>\n",
       "      <th>19456</th>\n",
       "      <td>D</td>\n",
       "      <td>material_7</td>\n",
       "      <td>material_5</td>\n",
       "      <td>126.25</td>\n",
       "      <td>6</td>\n",
       "      <td>6</td>\n",
       "      <td>9</td>\n",
       "      <td>15</td>\n",
       "      <td>6</td>\n",
       "      <td>17.905</td>\n",
       "      <td>...</td>\n",
       "      <td>19.309</td>\n",
       "      <td>13.169</td>\n",
       "      <td>15.618</td>\n",
       "      <td>19.998</td>\n",
       "      <td>9.799</td>\n",
       "      <td>14.097</td>\n",
       "      <td>17.106</td>\n",
       "      <td>15.941</td>\n",
       "      <td>15.215</td>\n",
       "      <td>801.669</td>\n",
       "    </tr>\n",
       "    <tr>\n",
       "      <th>17985</th>\n",
       "      <td>D</td>\n",
       "      <td>material_7</td>\n",
       "      <td>material_5</td>\n",
       "      <td>109.07</td>\n",
       "      <td>6</td>\n",
       "      <td>6</td>\n",
       "      <td>8</td>\n",
       "      <td>9</td>\n",
       "      <td>6</td>\n",
       "      <td>17.196</td>\n",
       "      <td>...</td>\n",
       "      <td>17.987</td>\n",
       "      <td>NaN</td>\n",
       "      <td>18.032</td>\n",
       "      <td>20.019</td>\n",
       "      <td>9.666</td>\n",
       "      <td>16.398</td>\n",
       "      <td>15.609</td>\n",
       "      <td>15.625</td>\n",
       "      <td>16.148</td>\n",
       "      <td>321.386</td>\n",
       "    </tr>\n",
       "    <tr>\n",
       "      <th>16936</th>\n",
       "      <td>D</td>\n",
       "      <td>material_7</td>\n",
       "      <td>material_5</td>\n",
       "      <td>149.87</td>\n",
       "      <td>6</td>\n",
       "      <td>6</td>\n",
       "      <td>13</td>\n",
       "      <td>7</td>\n",
       "      <td>10</td>\n",
       "      <td>16.758</td>\n",
       "      <td>...</td>\n",
       "      <td>18.604</td>\n",
       "      <td>10.946</td>\n",
       "      <td>16.912</td>\n",
       "      <td>18.001</td>\n",
       "      <td>10.679</td>\n",
       "      <td>14.246</td>\n",
       "      <td>16.733</td>\n",
       "      <td>15.783</td>\n",
       "      <td>16.344</td>\n",
       "      <td>NaN</td>\n",
       "    </tr>\n",
       "    <tr>\n",
       "      <th>6616</th>\n",
       "      <td>B</td>\n",
       "      <td>material_5</td>\n",
       "      <td>material_5</td>\n",
       "      <td>102.74</td>\n",
       "      <td>8</td>\n",
       "      <td>8</td>\n",
       "      <td>2</td>\n",
       "      <td>7</td>\n",
       "      <td>8</td>\n",
       "      <td>15.647</td>\n",
       "      <td>...</td>\n",
       "      <td>18.368</td>\n",
       "      <td>10.403</td>\n",
       "      <td>16.799</td>\n",
       "      <td>NaN</td>\n",
       "      <td>10.436</td>\n",
       "      <td>17.396</td>\n",
       "      <td>17.912</td>\n",
       "      <td>NaN</td>\n",
       "      <td>14.290</td>\n",
       "      <td>588.786</td>\n",
       "    </tr>\n",
       "    <tr>\n",
       "      <th>6925</th>\n",
       "      <td>B</td>\n",
       "      <td>material_5</td>\n",
       "      <td>material_5</td>\n",
       "      <td>162.03</td>\n",
       "      <td>8</td>\n",
       "      <td>8</td>\n",
       "      <td>7</td>\n",
       "      <td>12</td>\n",
       "      <td>14</td>\n",
       "      <td>16.399</td>\n",
       "      <td>...</td>\n",
       "      <td>19.939</td>\n",
       "      <td>9.799</td>\n",
       "      <td>13.720</td>\n",
       "      <td>20.386</td>\n",
       "      <td>12.075</td>\n",
       "      <td>12.223</td>\n",
       "      <td>NaN</td>\n",
       "      <td>15.674</td>\n",
       "      <td>13.649</td>\n",
       "      <td>506.357</td>\n",
       "    </tr>\n",
       "  </tbody>\n",
       "</table>\n",
       "<p>5 rows × 24 columns</p>\n",
       "</div>"
      ],
      "text/plain": [
       "      product_code attribute_0 attribute_1  loading  attribute_2  attribute_3  \\\n",
       "19456            D  material_7  material_5   126.25            6            6   \n",
       "17985            D  material_7  material_5   109.07            6            6   \n",
       "16936            D  material_7  material_5   149.87            6            6   \n",
       "6616             B  material_5  material_5   102.74            8            8   \n",
       "6925             B  material_5  material_5   162.03            8            8   \n",
       "\n",
       "       measurement_0  measurement_1  measurement_2  measurement_3  ...  \\\n",
       "19456              9             15              6         17.905  ...   \n",
       "17985              8              9              6         17.196  ...   \n",
       "16936             13              7             10         16.758  ...   \n",
       "6616               2              7              8         15.647  ...   \n",
       "6925               7             12             14         16.399  ...   \n",
       "\n",
       "       measurement_8  measurement_9  measurement_10  measurement_11  \\\n",
       "19456         19.309         13.169          15.618          19.998   \n",
       "17985         17.987            NaN          18.032          20.019   \n",
       "16936         18.604         10.946          16.912          18.001   \n",
       "6616          18.368         10.403          16.799             NaN   \n",
       "6925          19.939          9.799          13.720          20.386   \n",
       "\n",
       "       measurement_12  measurement_13  measurement_14  measurement_15  \\\n",
       "19456           9.799          14.097          17.106          15.941   \n",
       "17985           9.666          16.398          15.609          15.625   \n",
       "16936          10.679          14.246          16.733          15.783   \n",
       "6616           10.436          17.396          17.912             NaN   \n",
       "6925           12.075          12.223             NaN          15.674   \n",
       "\n",
       "       measurement_16  measurement_17  \n",
       "19456          15.215         801.669  \n",
       "17985          16.148         321.386  \n",
       "16936          16.344             NaN  \n",
       "6616           14.290         588.786  \n",
       "6925           13.649         506.357  \n",
       "\n",
       "[5 rows x 24 columns]"
      ]
     },
     "execution_count": 11,
     "metadata": {},
     "output_type": "execute_result"
    }
   ],
   "source": [
    "print('X_train shape: ', X_train.shape)\n",
    "X_train.head()"
   ]
  },
  {
   "cell_type": "code",
   "execution_count": 12,
   "id": "c2d15adc",
   "metadata": {
    "execution": {
     "iopub.execute_input": "2022-08-18T05:06:37.706193Z",
     "iopub.status.busy": "2022-08-18T05:06:37.705476Z",
     "iopub.status.idle": "2022-08-18T05:06:37.735352Z",
     "shell.execute_reply": "2022-08-18T05:06:37.733822Z"
    },
    "papermill": {
     "duration": 0.044261,
     "end_time": "2022-08-18T05:06:37.737977",
     "exception": false,
     "start_time": "2022-08-18T05:06:37.693716",
     "status": "completed"
    },
    "tags": []
   },
   "outputs": [
    {
     "name": "stdout",
     "output_type": "stream",
     "text": [
      "X_test shape:  (20775, 24)\n"
     ]
    },
    {
     "data": {
      "text/html": [
       "<div>\n",
       "<style scoped>\n",
       "    .dataframe tbody tr th:only-of-type {\n",
       "        vertical-align: middle;\n",
       "    }\n",
       "\n",
       "    .dataframe tbody tr th {\n",
       "        vertical-align: top;\n",
       "    }\n",
       "\n",
       "    .dataframe thead th {\n",
       "        text-align: right;\n",
       "    }\n",
       "</style>\n",
       "<table border=\"1\" class=\"dataframe\">\n",
       "  <thead>\n",
       "    <tr style=\"text-align: right;\">\n",
       "      <th></th>\n",
       "      <th>product_code</th>\n",
       "      <th>attribute_0</th>\n",
       "      <th>attribute_1</th>\n",
       "      <th>loading</th>\n",
       "      <th>attribute_2</th>\n",
       "      <th>attribute_3</th>\n",
       "      <th>measurement_0</th>\n",
       "      <th>measurement_1</th>\n",
       "      <th>measurement_2</th>\n",
       "      <th>measurement_3</th>\n",
       "      <th>...</th>\n",
       "      <th>measurement_8</th>\n",
       "      <th>measurement_9</th>\n",
       "      <th>measurement_10</th>\n",
       "      <th>measurement_11</th>\n",
       "      <th>measurement_12</th>\n",
       "      <th>measurement_13</th>\n",
       "      <th>measurement_14</th>\n",
       "      <th>measurement_15</th>\n",
       "      <th>measurement_16</th>\n",
       "      <th>measurement_17</th>\n",
       "    </tr>\n",
       "  </thead>\n",
       "  <tbody>\n",
       "    <tr>\n",
       "      <th>0</th>\n",
       "      <td>F</td>\n",
       "      <td>material_5</td>\n",
       "      <td>material_6</td>\n",
       "      <td>119.57</td>\n",
       "      <td>6</td>\n",
       "      <td>4</td>\n",
       "      <td>6</td>\n",
       "      <td>9</td>\n",
       "      <td>6</td>\n",
       "      <td>19.305</td>\n",
       "      <td>...</td>\n",
       "      <td>18.654</td>\n",
       "      <td>10.802</td>\n",
       "      <td>15.909</td>\n",
       "      <td>18.070</td>\n",
       "      <td>13.772</td>\n",
       "      <td>13.659</td>\n",
       "      <td>16.825</td>\n",
       "      <td>13.742</td>\n",
       "      <td>17.710</td>\n",
       "      <td>634.612</td>\n",
       "    </tr>\n",
       "    <tr>\n",
       "      <th>1</th>\n",
       "      <td>F</td>\n",
       "      <td>material_5</td>\n",
       "      <td>material_6</td>\n",
       "      <td>113.51</td>\n",
       "      <td>6</td>\n",
       "      <td>4</td>\n",
       "      <td>11</td>\n",
       "      <td>8</td>\n",
       "      <td>0</td>\n",
       "      <td>17.883</td>\n",
       "      <td>...</td>\n",
       "      <td>19.368</td>\n",
       "      <td>12.032</td>\n",
       "      <td>13.998</td>\n",
       "      <td>NaN</td>\n",
       "      <td>12.473</td>\n",
       "      <td>17.468</td>\n",
       "      <td>16.708</td>\n",
       "      <td>14.776</td>\n",
       "      <td>14.102</td>\n",
       "      <td>537.037</td>\n",
       "    </tr>\n",
       "    <tr>\n",
       "      <th>2</th>\n",
       "      <td>F</td>\n",
       "      <td>material_5</td>\n",
       "      <td>material_6</td>\n",
       "      <td>112.16</td>\n",
       "      <td>6</td>\n",
       "      <td>4</td>\n",
       "      <td>8</td>\n",
       "      <td>12</td>\n",
       "      <td>4</td>\n",
       "      <td>18.475</td>\n",
       "      <td>...</td>\n",
       "      <td>17.774</td>\n",
       "      <td>11.743</td>\n",
       "      <td>17.046</td>\n",
       "      <td>18.086</td>\n",
       "      <td>10.907</td>\n",
       "      <td>13.363</td>\n",
       "      <td>15.737</td>\n",
       "      <td>17.065</td>\n",
       "      <td>16.021</td>\n",
       "      <td>658.995</td>\n",
       "    </tr>\n",
       "    <tr>\n",
       "      <th>3</th>\n",
       "      <td>F</td>\n",
       "      <td>material_5</td>\n",
       "      <td>material_6</td>\n",
       "      <td>112.72</td>\n",
       "      <td>6</td>\n",
       "      <td>4</td>\n",
       "      <td>8</td>\n",
       "      <td>11</td>\n",
       "      <td>10</td>\n",
       "      <td>16.518</td>\n",
       "      <td>...</td>\n",
       "      <td>18.948</td>\n",
       "      <td>11.790</td>\n",
       "      <td>18.165</td>\n",
       "      <td>16.163</td>\n",
       "      <td>10.933</td>\n",
       "      <td>15.501</td>\n",
       "      <td>15.667</td>\n",
       "      <td>12.620</td>\n",
       "      <td>16.111</td>\n",
       "      <td>594.301</td>\n",
       "    </tr>\n",
       "    <tr>\n",
       "      <th>4</th>\n",
       "      <td>F</td>\n",
       "      <td>material_5</td>\n",
       "      <td>material_6</td>\n",
       "      <td>208.00</td>\n",
       "      <td>6</td>\n",
       "      <td>4</td>\n",
       "      <td>14</td>\n",
       "      <td>16</td>\n",
       "      <td>8</td>\n",
       "      <td>17.808</td>\n",
       "      <td>...</td>\n",
       "      <td>19.141</td>\n",
       "      <td>12.370</td>\n",
       "      <td>14.578</td>\n",
       "      <td>17.849</td>\n",
       "      <td>11.941</td>\n",
       "      <td>16.070</td>\n",
       "      <td>16.183</td>\n",
       "      <td>13.324</td>\n",
       "      <td>17.150</td>\n",
       "      <td>801.044</td>\n",
       "    </tr>\n",
       "  </tbody>\n",
       "</table>\n",
       "<p>5 rows × 24 columns</p>\n",
       "</div>"
      ],
      "text/plain": [
       "  product_code attribute_0 attribute_1  loading  attribute_2  attribute_3  \\\n",
       "0            F  material_5  material_6   119.57            6            4   \n",
       "1            F  material_5  material_6   113.51            6            4   \n",
       "2            F  material_5  material_6   112.16            6            4   \n",
       "3            F  material_5  material_6   112.72            6            4   \n",
       "4            F  material_5  material_6   208.00            6            4   \n",
       "\n",
       "   measurement_0  measurement_1  measurement_2  measurement_3  ...  \\\n",
       "0              6              9              6         19.305  ...   \n",
       "1             11              8              0         17.883  ...   \n",
       "2              8             12              4         18.475  ...   \n",
       "3              8             11             10         16.518  ...   \n",
       "4             14             16              8         17.808  ...   \n",
       "\n",
       "   measurement_8  measurement_9  measurement_10  measurement_11  \\\n",
       "0         18.654         10.802          15.909          18.070   \n",
       "1         19.368         12.032          13.998             NaN   \n",
       "2         17.774         11.743          17.046          18.086   \n",
       "3         18.948         11.790          18.165          16.163   \n",
       "4         19.141         12.370          14.578          17.849   \n",
       "\n",
       "   measurement_12  measurement_13  measurement_14  measurement_15  \\\n",
       "0          13.772          13.659          16.825          13.742   \n",
       "1          12.473          17.468          16.708          14.776   \n",
       "2          10.907          13.363          15.737          17.065   \n",
       "3          10.933          15.501          15.667          12.620   \n",
       "4          11.941          16.070          16.183          13.324   \n",
       "\n",
       "   measurement_16  measurement_17  \n",
       "0          17.710         634.612  \n",
       "1          14.102         537.037  \n",
       "2          16.021         658.995  \n",
       "3          16.111         594.301  \n",
       "4          17.150         801.044  \n",
       "\n",
       "[5 rows x 24 columns]"
      ]
     },
     "execution_count": 12,
     "metadata": {},
     "output_type": "execute_result"
    }
   ],
   "source": [
    "print('X_test shape: ', X_test.shape)\n",
    "X_test.head()"
   ]
  },
  {
   "cell_type": "markdown",
   "id": "2164f8de",
   "metadata": {
    "papermill": {
     "duration": 0.009886,
     "end_time": "2022-08-18T05:06:37.758079",
     "exception": false,
     "start_time": "2022-08-18T05:06:37.748193",
     "status": "completed"
    },
    "tags": []
   },
   "source": [
    "### Defining the preprocessing steps\n",
    "The following cells prepare, impute missing values in numerical data, and impute missing values and applies a one-hot encoding to categorical data."
   ]
  },
  {
   "cell_type": "code",
   "execution_count": 13,
   "id": "b046ca1d",
   "metadata": {
    "execution": {
     "iopub.execute_input": "2022-08-18T05:06:37.780229Z",
     "iopub.status.busy": "2022-08-18T05:06:37.779803Z",
     "iopub.status.idle": "2022-08-18T05:06:37.787068Z",
     "shell.execute_reply": "2022-08-18T05:06:37.785898Z"
    },
    "papermill": {
     "duration": 0.021169,
     "end_time": "2022-08-18T05:06:37.789489",
     "exception": false,
     "start_time": "2022-08-18T05:06:37.768320",
     "status": "completed"
    },
    "tags": []
   },
   "outputs": [
    {
     "name": "stdout",
     "output_type": "stream",
     "text": [
      "Categorical variables:\n",
      "['product_code', 'attribute_0', 'attribute_1']\n"
     ]
    }
   ],
   "source": [
    "s = (X_train.dtypes == 'object')\n",
    "object_cols = list(s[s].index)\n",
    "\n",
    "print(\"Categorical variables:\")\n",
    "print(object_cols)"
   ]
  },
  {
   "cell_type": "code",
   "execution_count": 14,
   "id": "22bd7ff5",
   "metadata": {
    "execution": {
     "iopub.execute_input": "2022-08-18T05:06:37.811500Z",
     "iopub.status.busy": "2022-08-18T05:06:37.811017Z",
     "iopub.status.idle": "2022-08-18T05:06:37.910285Z",
     "shell.execute_reply": "2022-08-18T05:06:37.908976Z"
    },
    "papermill": {
     "duration": 0.113861,
     "end_time": "2022-08-18T05:06:37.913445",
     "exception": false,
     "start_time": "2022-08-18T05:06:37.799584",
     "status": "completed"
    },
    "tags": []
   },
   "outputs": [],
   "source": [
    "OH_encoder = OneHotEncoder(handle_unknown='ignore', sparse=False)\n",
    "OH_cols_train = pd.DataFrame(OH_encoder.fit_transform(X_train[object_cols]))\n",
    "OH_cols_valid = pd.DataFrame(OH_encoder.transform(X_valid[object_cols]))\n",
    "OH_cols_test = pd.DataFrame(OH_encoder.transform(X_test[object_cols]))\n",
    "\n",
    "# One-hot encoding removed index; put it back\n",
    "OH_cols_train.index = X_train.index\n",
    "OH_cols_valid.index = X_valid.index\n",
    "OH_cols_test.index = test_data.index\n",
    "\n",
    "# Remove categorical columns (will replace with one-hot encoding)\n",
    "num_X_train = X_train.drop(object_cols, axis=1)\n",
    "num_X_valid = X_valid.drop(object_cols, axis=1)\n",
    "num_X_test = X_test.drop(object_cols, axis=1)\n",
    "\n",
    "# Add one-hot encoded columns to numerical features\n",
    "OH_X_train = pd.concat([num_X_train, OH_cols_train], axis=1)\n",
    "OH_X_valid = pd.concat([num_X_valid, OH_cols_valid], axis=1)\n",
    "OH_X_test = pd.concat([num_X_test, OH_cols_test], axis =1)"
   ]
  },
  {
   "cell_type": "code",
   "execution_count": 15,
   "id": "b87ab58d",
   "metadata": {
    "execution": {
     "iopub.execute_input": "2022-08-18T05:06:37.936528Z",
     "iopub.status.busy": "2022-08-18T05:06:37.936083Z",
     "iopub.status.idle": "2022-08-18T05:06:37.941864Z",
     "shell.execute_reply": "2022-08-18T05:06:37.940673Z"
    },
    "papermill": {
     "duration": 0.021203,
     "end_time": "2022-08-18T05:06:37.945119",
     "exception": false,
     "start_time": "2022-08-18T05:06:37.923916",
     "status": "completed"
    },
    "tags": []
   },
   "outputs": [
    {
     "name": "stdout",
     "output_type": "stream",
     "text": [
      "OH_X_train shape:  (21256, 31)\n",
      "OH_X_test shape:  (21256, 31)\n"
     ]
    }
   ],
   "source": [
    "print('OH_X_train shape: ', OH_X_train.shape)\n",
    "print('OH_X_test shape: ', OH_X_train.shape)"
   ]
  },
  {
   "cell_type": "markdown",
   "id": "7e2665a8",
   "metadata": {
    "papermill": {
     "duration": 0.01031,
     "end_time": "2022-08-18T05:06:37.966864",
     "exception": false,
     "start_time": "2022-08-18T05:06:37.956554",
     "status": "completed"
    },
    "tags": []
   },
   "source": [
    "Now we will apply the Simple Imputer technique for dealing with null values in OH_X_train data set."
   ]
  },
  {
   "cell_type": "code",
   "execution_count": 16,
   "id": "955ea8c0",
   "metadata": {
    "execution": {
     "iopub.execute_input": "2022-08-18T05:06:37.989712Z",
     "iopub.status.busy": "2022-08-18T05:06:37.989267Z",
     "iopub.status.idle": "2022-08-18T05:06:38.060258Z",
     "shell.execute_reply": "2022-08-18T05:06:38.058627Z"
    },
    "papermill": {
     "duration": 0.085716,
     "end_time": "2022-08-18T05:06:38.063276",
     "exception": false,
     "start_time": "2022-08-18T05:06:37.977560",
     "status": "completed"
    },
    "tags": []
   },
   "outputs": [
    {
     "name": "stderr",
     "output_type": "stream",
     "text": [
      "/opt/conda/lib/python3.7/site-packages/sklearn/utils/validation.py:1692: FutureWarning: Feature names only support names that are all strings. Got feature names with dtypes: ['int', 'str']. An error will be raised in 1.2.\n",
      "  FutureWarning,\n",
      "/opt/conda/lib/python3.7/site-packages/sklearn/utils/validation.py:1692: FutureWarning: Feature names only support names that are all strings. Got feature names with dtypes: ['int', 'str']. An error will be raised in 1.2.\n",
      "  FutureWarning,\n",
      "/opt/conda/lib/python3.7/site-packages/sklearn/utils/validation.py:1692: FutureWarning: Feature names only support names that are all strings. Got feature names with dtypes: ['int', 'str']. An error will be raised in 1.2.\n",
      "  FutureWarning,\n",
      "/opt/conda/lib/python3.7/site-packages/sklearn/utils/validation.py:1692: FutureWarning: Feature names only support names that are all strings. Got feature names with dtypes: ['int', 'str']. An error will be raised in 1.2.\n",
      "  FutureWarning,\n"
     ]
    }
   ],
   "source": [
    "# Imputation\n",
    "my_imputer = SimpleImputer(strategy = \"mean\")\n",
    "imputed_X_train = pd.DataFrame(my_imputer.fit_transform(OH_X_train))\n",
    "imputed_X_valid = pd.DataFrame(my_imputer.transform(OH_X_valid))\n",
    "imputed_X_test = pd.DataFrame(my_imputer.transform(OH_X_test))\n",
    "\n",
    "# Imputation removed column names; put them back\n",
    "imputed_X_train.columns = OH_X_valid.columns\n",
    "imputed_X_valid.columns = OH_X_valid.columns\n",
    "imputed_X_test.columns = OH_X_test.columns"
   ]
  },
  {
   "cell_type": "code",
   "execution_count": 17,
   "id": "9ff7d702",
   "metadata": {
    "execution": {
     "iopub.execute_input": "2022-08-18T05:06:38.086438Z",
     "iopub.status.busy": "2022-08-18T05:06:38.086008Z",
     "iopub.status.idle": "2022-08-18T05:06:38.119300Z",
     "shell.execute_reply": "2022-08-18T05:06:38.117552Z"
    },
    "papermill": {
     "duration": 0.048633,
     "end_time": "2022-08-18T05:06:38.122694",
     "exception": false,
     "start_time": "2022-08-18T05:06:38.074061",
     "status": "completed"
    },
    "tags": []
   },
   "outputs": [
    {
     "name": "stdout",
     "output_type": "stream",
     "text": [
      "imputed_X_train shape:  (21256, 31)\n"
     ]
    },
    {
     "data": {
      "text/html": [
       "<div>\n",
       "<style scoped>\n",
       "    .dataframe tbody tr th:only-of-type {\n",
       "        vertical-align: middle;\n",
       "    }\n",
       "\n",
       "    .dataframe tbody tr th {\n",
       "        vertical-align: top;\n",
       "    }\n",
       "\n",
       "    .dataframe thead th {\n",
       "        text-align: right;\n",
       "    }\n",
       "</style>\n",
       "<table border=\"1\" class=\"dataframe\">\n",
       "  <thead>\n",
       "    <tr style=\"text-align: right;\">\n",
       "      <th></th>\n",
       "      <th>loading</th>\n",
       "      <th>attribute_2</th>\n",
       "      <th>attribute_3</th>\n",
       "      <th>measurement_0</th>\n",
       "      <th>measurement_1</th>\n",
       "      <th>measurement_2</th>\n",
       "      <th>measurement_3</th>\n",
       "      <th>measurement_4</th>\n",
       "      <th>measurement_5</th>\n",
       "      <th>measurement_6</th>\n",
       "      <th>...</th>\n",
       "      <th>0</th>\n",
       "      <th>1</th>\n",
       "      <th>2</th>\n",
       "      <th>3</th>\n",
       "      <th>4</th>\n",
       "      <th>5</th>\n",
       "      <th>6</th>\n",
       "      <th>7</th>\n",
       "      <th>8</th>\n",
       "      <th>9</th>\n",
       "    </tr>\n",
       "  </thead>\n",
       "  <tbody>\n",
       "    <tr>\n",
       "      <th>0</th>\n",
       "      <td>126.25</td>\n",
       "      <td>6.0</td>\n",
       "      <td>6.0</td>\n",
       "      <td>9.0</td>\n",
       "      <td>15.0</td>\n",
       "      <td>6.0</td>\n",
       "      <td>17.905</td>\n",
       "      <td>12.437</td>\n",
       "      <td>17.545000</td>\n",
       "      <td>18.128</td>\n",
       "      <td>...</td>\n",
       "      <td>0.0</td>\n",
       "      <td>0.0</td>\n",
       "      <td>0.0</td>\n",
       "      <td>1.0</td>\n",
       "      <td>0.0</td>\n",
       "      <td>0.0</td>\n",
       "      <td>1.0</td>\n",
       "      <td>1.0</td>\n",
       "      <td>0.0</td>\n",
       "      <td>0.0</td>\n",
       "    </tr>\n",
       "    <tr>\n",
       "      <th>1</th>\n",
       "      <td>109.07</td>\n",
       "      <td>6.0</td>\n",
       "      <td>6.0</td>\n",
       "      <td>8.0</td>\n",
       "      <td>9.0</td>\n",
       "      <td>6.0</td>\n",
       "      <td>17.196</td>\n",
       "      <td>11.495</td>\n",
       "      <td>16.744000</td>\n",
       "      <td>14.966</td>\n",
       "      <td>...</td>\n",
       "      <td>0.0</td>\n",
       "      <td>0.0</td>\n",
       "      <td>0.0</td>\n",
       "      <td>1.0</td>\n",
       "      <td>0.0</td>\n",
       "      <td>0.0</td>\n",
       "      <td>1.0</td>\n",
       "      <td>1.0</td>\n",
       "      <td>0.0</td>\n",
       "      <td>0.0</td>\n",
       "    </tr>\n",
       "    <tr>\n",
       "      <th>2</th>\n",
       "      <td>149.87</td>\n",
       "      <td>6.0</td>\n",
       "      <td>6.0</td>\n",
       "      <td>13.0</td>\n",
       "      <td>7.0</td>\n",
       "      <td>10.0</td>\n",
       "      <td>16.758</td>\n",
       "      <td>10.336</td>\n",
       "      <td>17.317000</td>\n",
       "      <td>15.524</td>\n",
       "      <td>...</td>\n",
       "      <td>0.0</td>\n",
       "      <td>0.0</td>\n",
       "      <td>0.0</td>\n",
       "      <td>1.0</td>\n",
       "      <td>0.0</td>\n",
       "      <td>0.0</td>\n",
       "      <td>1.0</td>\n",
       "      <td>1.0</td>\n",
       "      <td>0.0</td>\n",
       "      <td>0.0</td>\n",
       "    </tr>\n",
       "    <tr>\n",
       "      <th>3</th>\n",
       "      <td>102.74</td>\n",
       "      <td>8.0</td>\n",
       "      <td>8.0</td>\n",
       "      <td>2.0</td>\n",
       "      <td>7.0</td>\n",
       "      <td>8.0</td>\n",
       "      <td>15.647</td>\n",
       "      <td>9.586</td>\n",
       "      <td>17.131543</td>\n",
       "      <td>17.631</td>\n",
       "      <td>...</td>\n",
       "      <td>0.0</td>\n",
       "      <td>1.0</td>\n",
       "      <td>0.0</td>\n",
       "      <td>0.0</td>\n",
       "      <td>0.0</td>\n",
       "      <td>1.0</td>\n",
       "      <td>0.0</td>\n",
       "      <td>1.0</td>\n",
       "      <td>0.0</td>\n",
       "      <td>0.0</td>\n",
       "    </tr>\n",
       "    <tr>\n",
       "      <th>4</th>\n",
       "      <td>162.03</td>\n",
       "      <td>8.0</td>\n",
       "      <td>8.0</td>\n",
       "      <td>7.0</td>\n",
       "      <td>12.0</td>\n",
       "      <td>14.0</td>\n",
       "      <td>16.399</td>\n",
       "      <td>13.092</td>\n",
       "      <td>15.616000</td>\n",
       "      <td>17.402</td>\n",
       "      <td>...</td>\n",
       "      <td>0.0</td>\n",
       "      <td>1.0</td>\n",
       "      <td>0.0</td>\n",
       "      <td>0.0</td>\n",
       "      <td>0.0</td>\n",
       "      <td>1.0</td>\n",
       "      <td>0.0</td>\n",
       "      <td>1.0</td>\n",
       "      <td>0.0</td>\n",
       "      <td>0.0</td>\n",
       "    </tr>\n",
       "  </tbody>\n",
       "</table>\n",
       "<p>5 rows × 31 columns</p>\n",
       "</div>"
      ],
      "text/plain": [
       "   loading  attribute_2  attribute_3  measurement_0  measurement_1  \\\n",
       "0   126.25          6.0          6.0            9.0           15.0   \n",
       "1   109.07          6.0          6.0            8.0            9.0   \n",
       "2   149.87          6.0          6.0           13.0            7.0   \n",
       "3   102.74          8.0          8.0            2.0            7.0   \n",
       "4   162.03          8.0          8.0            7.0           12.0   \n",
       "\n",
       "   measurement_2  measurement_3  measurement_4  measurement_5  measurement_6  \\\n",
       "0            6.0         17.905         12.437      17.545000         18.128   \n",
       "1            6.0         17.196         11.495      16.744000         14.966   \n",
       "2           10.0         16.758         10.336      17.317000         15.524   \n",
       "3            8.0         15.647          9.586      17.131543         17.631   \n",
       "4           14.0         16.399         13.092      15.616000         17.402   \n",
       "\n",
       "   ...    0    1    2    3    4    5    6    7    8    9  \n",
       "0  ...  0.0  0.0  0.0  1.0  0.0  0.0  1.0  1.0  0.0  0.0  \n",
       "1  ...  0.0  0.0  0.0  1.0  0.0  0.0  1.0  1.0  0.0  0.0  \n",
       "2  ...  0.0  0.0  0.0  1.0  0.0  0.0  1.0  1.0  0.0  0.0  \n",
       "3  ...  0.0  1.0  0.0  0.0  0.0  1.0  0.0  1.0  0.0  0.0  \n",
       "4  ...  0.0  1.0  0.0  0.0  0.0  1.0  0.0  1.0  0.0  0.0  \n",
       "\n",
       "[5 rows x 31 columns]"
      ]
     },
     "execution_count": 17,
     "metadata": {},
     "output_type": "execute_result"
    }
   ],
   "source": [
    "print('imputed_X_train shape: ', imputed_X_train.shape)\n",
    "imputed_X_train.head()"
   ]
  },
  {
   "cell_type": "markdown",
   "id": "3c71e473",
   "metadata": {
    "papermill": {
     "duration": 0.010103,
     "end_time": "2022-08-18T05:06:38.143405",
     "exception": false,
     "start_time": "2022-08-18T05:06:38.133302",
     "status": "completed"
    },
    "tags": []
   },
   "source": [
    "Applying Standard Scalar technique"
   ]
  },
  {
   "cell_type": "code",
   "execution_count": 18,
   "id": "3125d206",
   "metadata": {
    "execution": {
     "iopub.execute_input": "2022-08-18T05:06:38.166171Z",
     "iopub.status.busy": "2022-08-18T05:06:38.165776Z",
     "iopub.status.idle": "2022-08-18T05:06:38.191934Z",
     "shell.execute_reply": "2022-08-18T05:06:38.190684Z"
    },
    "papermill": {
     "duration": 0.041053,
     "end_time": "2022-08-18T05:06:38.194874",
     "exception": false,
     "start_time": "2022-08-18T05:06:38.153821",
     "status": "completed"
    },
    "tags": []
   },
   "outputs": [
    {
     "name": "stderr",
     "output_type": "stream",
     "text": [
      "/opt/conda/lib/python3.7/site-packages/sklearn/utils/validation.py:1692: FutureWarning: Feature names only support names that are all strings. Got feature names with dtypes: ['int', 'str']. An error will be raised in 1.2.\n",
      "  FutureWarning,\n",
      "/opt/conda/lib/python3.7/site-packages/sklearn/utils/validation.py:1692: FutureWarning: Feature names only support names that are all strings. Got feature names with dtypes: ['int', 'str']. An error will be raised in 1.2.\n",
      "  FutureWarning,\n",
      "/opt/conda/lib/python3.7/site-packages/sklearn/utils/validation.py:1692: FutureWarning: Feature names only support names that are all strings. Got feature names with dtypes: ['int', 'str']. An error will be raised in 1.2.\n",
      "  FutureWarning,\n",
      "/opt/conda/lib/python3.7/site-packages/sklearn/utils/validation.py:1692: FutureWarning: Feature names only support names that are all strings. Got feature names with dtypes: ['int', 'str']. An error will be raised in 1.2.\n",
      "  FutureWarning,\n"
     ]
    }
   ],
   "source": [
    "scaler = StandardScaler()\n",
    "X_train_scaled = scaler.fit_transform(imputed_X_train)\n",
    "X_valid_scaled = scaler.transform(imputed_X_valid)\n",
    "X_test_scaled = scaler.transform(imputed_X_test)"
   ]
  },
  {
   "cell_type": "markdown",
   "id": "38b62539",
   "metadata": {
    "papermill": {
     "duration": 0.010244,
     "end_time": "2022-08-18T05:06:38.215874",
     "exception": false,
     "start_time": "2022-08-18T05:06:38.205630",
     "status": "completed"
    },
    "tags": []
   },
   "source": [
    "### Defining the model using Random-Forest-Classifier"
   ]
  },
  {
   "cell_type": "code",
   "execution_count": 19,
   "id": "c2481539",
   "metadata": {
    "execution": {
     "iopub.execute_input": "2022-08-18T05:06:38.239566Z",
     "iopub.status.busy": "2022-08-18T05:06:38.239104Z",
     "iopub.status.idle": "2022-08-18T05:06:38.244746Z",
     "shell.execute_reply": "2022-08-18T05:06:38.243555Z"
    },
    "papermill": {
     "duration": 0.020578,
     "end_time": "2022-08-18T05:06:38.247143",
     "exception": false,
     "start_time": "2022-08-18T05:06:38.226565",
     "status": "completed"
    },
    "tags": []
   },
   "outputs": [],
   "source": [
    "model = RandomForestClassifier(n_estimators=300, criterion = 'entropy', max_depth= 10)"
   ]
  },
  {
   "cell_type": "markdown",
   "id": "166ee397",
   "metadata": {
    "papermill": {
     "duration": 0.010251,
     "end_time": "2022-08-18T05:06:38.268156",
     "exception": false,
     "start_time": "2022-08-18T05:06:38.257905",
     "status": "completed"
    },
    "tags": []
   },
   "source": [
    "### Fitting the model and making predictions"
   ]
  },
  {
   "cell_type": "code",
   "execution_count": 20,
   "id": "758e5b45",
   "metadata": {
    "execution": {
     "iopub.execute_input": "2022-08-18T05:06:38.291396Z",
     "iopub.status.busy": "2022-08-18T05:06:38.290982Z",
     "iopub.status.idle": "2022-08-18T05:06:58.009379Z",
     "shell.execute_reply": "2022-08-18T05:06:58.008018Z"
    },
    "papermill": {
     "duration": 19.733973,
     "end_time": "2022-08-18T05:06:58.012711",
     "exception": false,
     "start_time": "2022-08-18T05:06:38.278738",
     "status": "completed"
    },
    "tags": []
   },
   "outputs": [
    {
     "name": "stdout",
     "output_type": "stream",
     "text": [
      "Accuracy:  0.5800360091300373\n"
     ]
    }
   ],
   "source": [
    "model.fit(X_train_scaled, y_train)\n",
    "\n",
    "preds = model.predict_proba(X_valid_scaled)[:,1]\n",
    "accuracy = metrics.roc_auc_score(y_valid, preds)\n",
    "print('Accuracy: ', accuracy)\n",
    "y_preds = model.predict_proba(X_test_scaled)[:,1]"
   ]
  },
  {
   "cell_type": "markdown",
   "id": "6aba92be",
   "metadata": {
    "papermill": {
     "duration": 0.010491,
     "end_time": "2022-08-18T05:06:58.034728",
     "exception": false,
     "start_time": "2022-08-18T05:06:58.024237",
     "status": "completed"
    },
    "tags": []
   },
   "source": [
    "### Making the submission "
   ]
  },
  {
   "cell_type": "code",
   "execution_count": 21,
   "id": "825f5ed2",
   "metadata": {
    "execution": {
     "iopub.execute_input": "2022-08-18T05:06:58.058816Z",
     "iopub.status.busy": "2022-08-18T05:06:58.057728Z",
     "iopub.status.idle": "2022-08-18T05:06:58.116021Z",
     "shell.execute_reply": "2022-08-18T05:06:58.115021Z"
    },
    "papermill": {
     "duration": 0.073206,
     "end_time": "2022-08-18T05:06:58.118754",
     "exception": false,
     "start_time": "2022-08-18T05:06:58.045548",
     "status": "completed"
    },
    "tags": []
   },
   "outputs": [],
   "source": [
    "sample_submission['failure'] = y_preds\n",
    "sample_submission.to_csv('submission.csv',index = False)"
   ]
  }
 ],
 "metadata": {
  "kernelspec": {
   "display_name": "Python 3",
   "language": "python",
   "name": "python3"
  },
  "language_info": {
   "codemirror_mode": {
    "name": "ipython",
    "version": 3
   },
   "file_extension": ".py",
   "mimetype": "text/x-python",
   "name": "python",
   "nbconvert_exporter": "python",
   "pygments_lexer": "ipython3",
   "version": "3.7.12"
  },
  "papermill": {
   "default_parameters": {},
   "duration": 33.984785,
   "end_time": "2022-08-18T05:06:58.953870",
   "environment_variables": {},
   "exception": null,
   "input_path": "__notebook__.ipynb",
   "output_path": "__notebook__.ipynb",
   "parameters": {},
   "start_time": "2022-08-18T05:06:24.969085",
   "version": "2.3.4"
  }
 },
 "nbformat": 4,
 "nbformat_minor": 5
}
